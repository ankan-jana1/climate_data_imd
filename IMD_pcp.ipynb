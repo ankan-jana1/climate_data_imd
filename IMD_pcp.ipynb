{
 "cells": [
  {
   "cell_type": "code",
   "execution_count": null,
   "id": "c3f70e56",
   "metadata": {},
   "outputs": [],
   "source": [
    "#import libraries\n",
    "import imdlib as imd\n",
    "import geopandas as gpd\n",
    "import regionmask\n",
    "import numpy as np\n",
    "import pandas as pd\n",
    "import rioxarray as rio"
   ]
  },
  {
   "cell_type": "code",
   "execution_count": null,
   "id": "99f29384",
   "metadata": {},
   "outputs": [],
   "source": [
    "#Download IMD grided rainfall data\n",
    "start_dy = '2019-01'\n",
    "end_dy = '2020-07'\n",
    "var_type = 'rain'\n",
    "file_dir='C:/Users/DELL/Desktop/RMSI_test/rain'\n",
    "data = imd.get_real_data(var_type, start_dy, end_dy, file_dir)\n"
   ]
  },
  {
   "cell_type": "code",
   "execution_count": null,
   "id": "ab920ab0",
   "metadata": {},
   "outputs": [],
   "source": [
    "#read and check the data\n",
    "data = imd.open_real_data(var_type, start_dy, end_dy, file_dir)\n",
    "\n",
    "ds = data.get_xarray()\n",
    "print(ds)\n",
    "#data.to_geotiff('test.tif', file_dir)"
   ]
  },
  {
   "cell_type": "code",
   "execution_count": null,
   "id": "409505a0",
   "metadata": {},
   "outputs": [],
   "source": [
    "#plotting the data\n",
    "ds = ds.where(ds['rain'] != -999.) #Remove NaN values\n",
    "#dss=ds['rain'].max('time').plot()\n",
    "for i in range(30):\n",
    "\n",
    "    ds2d = ds['rain'].isel(time=i)\n",
    "    ds2d.rio.to_raster(str(ds['time'][i])[36:46] + \"_rain.tif\")\n",
    "\n",
    "    \n"
   ]
  },
  {
   "cell_type": "code",
   "execution_count": null,
   "id": "f282be04-f96f-4055-9f5a-c33ffa84f927",
   "metadata": {},
   "outputs": [],
   "source": [
    "for i in range(30):\n",
    "    date= ds['time'][i]\n",
    "    print(date)"
   ]
  },
  {
   "cell_type": "code",
   "execution_count": null,
   "id": "b8181c38-bc30-455b-9f53-2a90fe6faec2",
   "metadata": {},
   "outputs": [],
   "source": [
    "str(ds['time'][i])[36:46]\n"
   ]
  },
  {
   "cell_type": "code",
   "execution_count": null,
   "id": "fb099f2f-daa8-4e22-85da-91095a2374df",
   "metadata": {},
   "outputs": [],
   "source": [
    "pip install rioxarray"
   ]
  },
  {
   "cell_type": "code",
   "execution_count": null,
   "id": "754ffbf6",
   "metadata": {},
   "outputs": [],
   "source": [
    "#import the India state boundary shapefile\n",
    "state_boun = gpd.read_file(\"C:/Users/DELL/Desktop/RMSI_test/india_state/indstate/stateboundary.zip\")\n",
    "state_boun[\"State_Name\"]\n"
   ]
  },
  {
   "cell_type": "code",
   "execution_count": null,
   "id": "d93d5641",
   "metadata": {},
   "outputs": [],
   "source": [
    "# mask the rainfall data statewise\n",
    "state_mask = regionmask.mask_3D_geopandas(state_boun,\n",
    "                                         ds.lon,\n",
    "                                         ds.lat)\n",
    "state_mask\n",
    "\n",
    "rain_state_boun_mask = ds[\"rain\"].where(state_mask)\n",
    "\n",
    "rain_state_boun_mask"
   ]
  },
  {
   "cell_type": "code",
   "execution_count": null,
   "id": "020ed77b",
   "metadata": {},
   "outputs": [],
   "source": [
    "#extract the maximum rain fall\n",
    "dff=rain_state_boun_mask.groupby(\"region\").max([\"time\",\"lat\", \"lon\"]).to_dataframe()"
   ]
  },
  {
   "cell_type": "code",
   "execution_count": null,
   "id": "3f590a1a",
   "metadata": {},
   "outputs": [],
   "source": [
    "#Add the maximum rainfall to the state boundary shapefile\n",
    "gdf = state_boun.assign(Max_Rain=dff['rain'])\n",
    "gdf\n"
   ]
  },
  {
   "cell_type": "code",
   "execution_count": null,
   "id": "2eae048d",
   "metadata": {},
   "outputs": [],
   "source": [
    "#plot the maximum daily rainfall state wise\n",
    "\n",
    "map1=gdf.plot(column='Max_Rain', legend=True, legend_kwds={'label': \"Daily maximum rainfall (mm)\",\n",
    "                        'orientation': \"vertical\"}).get_figure().savefig('C:/Users/DELL/Desktop/RMSI_test/Ind_stat_rain.png', bbox_inches='tight', dpi=300)\n",
    "\n",
    "gdf.plot.bar(x='State_Name', y='Max_Rain', rot=90, figsize= [12,4], ylabel= 'Rainfall (mm/day)', xlabel='State Name', title='State wise monthly daily maximum rainfall ').get_figure().savefig('C:/Users/DELL/Desktop/RMSI_test/stat_rain.png', bbox_inches='tight', dpi=300)"
   ]
  },
  {
   "cell_type": "code",
   "execution_count": null,
   "id": "ade18067",
   "metadata": {},
   "outputs": [],
   "source": []
  }
 ],
 "metadata": {
  "kernelspec": {
   "display_name": "Python 3",
   "language": "python",
   "name": "python3"
  },
  "language_info": {
   "codemirror_mode": {
    "name": "ipython",
    "version": 3
   },
   "file_extension": ".py",
   "mimetype": "text/x-python",
   "name": "python",
   "nbconvert_exporter": "python",
   "pygments_lexer": "ipython3",
   "version": "3.8.8"
  }
 },
 "nbformat": 4,
 "nbformat_minor": 5
}
